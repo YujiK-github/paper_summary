{
 "cells": [
  {
   "attachments": {},
   "cell_type": "markdown",
   "metadata": {},
   "source": [
    "### 参考文献\n",
    "萩原淳一郎, 瓜生真也, 牧山幸史. 基礎からわかる時系列分析―Rで実践するカルマンフィルタ・MCMC・粒子フィルタ―. Data Science Library"
   ]
  },
  {
   "attachments": {},
   "cell_type": "markdown",
   "metadata": {},
   "source": [
    "- - - "
   ]
  },
  {
   "attachments": {},
   "cell_type": "markdown",
   "metadata": {},
   "source": [
    "# 状態空間モデル(Space State Model: SSM)"
   ]
  },
  {
   "attachments": {},
   "cell_type": "markdown",
   "metadata": {},
   "source": [
    "* 推定対象は値ではなく確率分布\n",
    "* 直接観測されるデータに加えて、直感的には観測されない潜在的な確率変数(=状態)を導入。\n",
    "* 状態はマルコフ性(前時点のみと関連がある)を仮定する。\n",
    "* ある時点の観測値はその時点の状態によってのみ決まる。"
   ]
  },
  {
   "attachments": {},
   "cell_type": "markdown",
   "metadata": {},
   "source": [
    "## 0. 定義"
   ]
  },
  {
   "attachments": {},
   "cell_type": "markdown",
   "metadata": {},
   "source": [
    "方程式によって表現すると\n",
    "\n",
    "$$\n",
    "\\left\\{\n",
    "\\begin{array}{ll}\n",
    "\\mathbf{x}_{t} = f(\\mathbf{x}_{t_1}, \\mathbf{w}_{t}) & \\dots \\text{状態方程式orシステム方程式}\\\\\n",
    "y_{t} = g(\\mathbf{x}_{t}+v_{t}) & \\dots 観測方程式\n",
    "\\end{array}\n",
    "\\right.\n",
    "$$\n",
    "ただし$f(\\cdot), g(\\cdot)$は任意の関数、$\\mathbf{w}_{t}, v_{t}$はそれぞれ状態雑音、観測雑音と呼ばれるホワイトノイズ。"
   ]
  },
  {
   "attachments": {},
   "cell_type": "markdown",
   "metadata": {},
   "source": [
    "## 1. 分類"
   ]
  },
  {
   "attachments": {},
   "cell_type": "markdown",
   "metadata": {},
   "source": [
    "$f(\\cdot), g(\\cdot)$の種類によってモデルの形状に名前がついている\n",
    "\n",
    "|  | $\\mathbf{w}_{t}, v_{t}$のいずれかが非ガウス分布 | $\\mathbf{w}_{t}, v_{t}$がともにガウス分布 |\n",
    "| - | - | - |\n",
    "| $f(\\cdot), g(\\cdot)$のいずれかが非線形 | 非線形・非ガウス型状態空間モデル | 非線形・ガウス型状態空間モデル |\n",
    "| $f(\\cdot), g(\\cdot)$がともに線形 | 線形・非ガウス型状態空間モデル | 線形・ガウス型状態空間モデル <br>or 動的線形モデル(Dynamic Linear Model: DLM) |  "
   ]
  },
  {
   "attachments": {},
   "cell_type": "markdown",
   "metadata": {},
   "source": [
    "特に\n",
    "### 線形・ガウス型状態空間モデル\n",
    "$$\n",
    "\\left\\{\n",
    "\\begin{array}{ll}\n",
    "\\mathbf{x}_{t} = \\mathbf{G}_{t}\\mathbf{x}_{t-1}+\\mathbf{w}_{t},  & \\mathbf{w}_{t} \\sim N(\\mathbf{0},\\mathbf{W}_{t}), \\quad\n",
    "\\mathbf{x}_{0} \\sim N(\\mathbf{m}_{0}, \\mathbf{C}_{0})\\\\\n",
    "y_{t} = \\mathbf{F}_{t}\\mathbf{x}_{t}+v_{t},  & v_{t} \\sim N(0, V_{t})\n",
    "\\end{array}\n",
    "\\right.\n",
    "$$\n",
    "もしくは\n",
    "$$\n",
    "\\left\\{\n",
    "\\begin{array}{ll}\n",
    "p(\\mathbf{x}_{t}|\\mathbf{x}_{t-1}) = N(\\mathbf{G}_{t}\\mathbf{x}_{t-1}, \\mathbf{W}_{t})\\\\\n",
    "p(\\mathbf{x}_{0}) = N(\\mathbf{m}_{0}, \\mathbf{C}_{0})\\\\\n",
    "p(y_{t}|\\mathbf{x}_{t}) = N(\\mathbf{F}_{t}\\mathbf{x}_{t-1}, V_{t})\n",
    "\\end{array}\n",
    "\\right.\n",
    "$$\n",
    "ここで、  \n",
    "$\\mathbf{G}_{t}$は$p \\times p$の**状態遷移行列**、$\\mathbf{F}_{t}$は$1 \\times p$の**観測行列**、$\\mathbf{W}_{t}$は$p \\times p$の状態雑音の共分散行列、$\\mathbf{V}_{t}$は観測雑音の分散、\n",
    "$\\mathbf{m}_{0}$は事前分布における$p$次元の平均ベクトル、$\\mathbf{C}_{0}$は事前分布における$p \\times p$の共分散行列とする。"
   ]
  },
  {
   "attachments": {},
   "cell_type": "markdown",
   "metadata": {},
   "source": [
    "## 2. 状態の推定"
   ]
  },
  {
   "attachments": {},
   "cell_type": "markdown",
   "metadata": {},
   "source": [
    "## 3. パラメータの推定"
   ]
  },
  {
   "attachments": {},
   "cell_type": "markdown",
   "metadata": {},
   "source": [
    "SSMのパラメータをまとめて$\\mathbf{\\theta}$とする"
   ]
  },
  {
   "attachments": {},
   "cell_type": "markdown",
   "metadata": {},
   "source": [
    "### 3-1. パラメータを確率分布として考えない場合(頻度論的)"
   ]
  },
  {
   "attachments": {},
   "cell_type": "markdown",
   "metadata": {},
   "source": [
    "#### 最尤推定  \n",
    "尤度は\n",
    "$$\n",
    "\\begin{align*}\n",
    "p(y_{1}, y_{2}, \\dots, y_{T};\\mathbf{\\theta}) &= p(y_{1:T};\\mathbf{\\theta}) \\\\\n",
    "&= p(y_{T}, y_{1:T-1}; \\mathbf{\\theta}) \\\\\n",
    "&= p(y_{T}|y_{1:T-1};\\mathbf{\\theta})p(y_{1:T-1};\\mathbf{\\theta}) \\\\\n",
    "&= \\prod_{t=1}^{T} p(y_{t}|y_{1:t-1};T) \\\\\n",
    "\\end{align*}\n",
    "$$\n",
    "ここで$y_{1:0}$は存在しないので空集合とすると\n",
    "$p(y_{1}|y_{1:0};\\mathbf{\\theta}) = p(p_{1}|\\emptyset;\\mathbf{\\theta}) = p(y_{1};\\mathbf{\\theta})$。  \n",
    "対数とると\n",
    "$$\n",
    "\\begin{align*}\n",
    "l(\\mathbf{\\theta}) &= \\log{p(y_{1}, y_{2}, \\dots, y_{T};\\mathbf{\\theta})} \\\\\n",
    "&= \\sum_{t=1}^{T} \\log{p(y_{t}|y_{1:t-1};T)}\n",
    "\\end{align*}\n",
    "$$\n",
    "\n",
    "従って最尤推定値$\\mathbf{\\hat{\\theta}}$は\n",
    "$$\n",
    "\\begin{align*}\n",
    "\\mathbf{\\hat{\\theta}} &= \\underset{\\mathbf{\\hat{\\theta}}}{\\text{argmax }} l(\\mathbf{\\theta}) \\\\\n",
    "&= \\underset{\\mathbf{\\hat{\\theta}}}{\\text{argmax }} \\log{p(y_{1:T}|\\mathbf{\\theta})}\\\\\n",
    "&= \\underset{\\mathbf{\\hat{\\theta}}}{\\text{argmax }} \\sum_{t=1}^{T} \\log{p(y_{t}|y_{1:t-1};T)}\n",
    "\\end{align*}\n",
    "$$"
   ]
  },
  {
   "attachments": {},
   "cell_type": "markdown",
   "metadata": {},
   "source": [
    "### 3-2. パラメータを確率分布として考える場合(ベイズ的)"
   ]
  },
  {
   "attachments": {},
   "cell_type": "markdown",
   "metadata": {},
   "source": [
    "#### MAP推定(周辺事後分布を最大化する)\n",
    "\n",
    "$$\n",
    "\\begin{align*}\n",
    "\\underset{\\mathbf{\\theta}}{\\text{argmax }}p(\\mathbf{\\theta}|y_{1:T})\n",
    "&=  \\underset{\\mathbf{\\theta}}{\\text{argmax }}\\frac{p(y_{1:T}|\\mathbf{\\theta})p(\\mathbf{\\theta})}{p(y_{1:T})}  \\\\\n",
    "&\\propto \\underset{\\mathbf{\\theta}}{\\text{argmax }}p(y_{1:T}|\\mathbf{\\theta})p(\\mathbf{\\theta})\n",
    "\\end{align*}\n",
    "$$\n",
    "対数取ると\n",
    "$$\n",
    "\\underset{\\mathbf{\\theta}}{\\text{argmax }} \\log{p(\\mathbf{\\theta}|y_{1:T})} \\propto \\underset{\\mathbf{\\theta}}{\\text{argmax }} \\{ \\log{p(y_{1:T}|\\mathbf{\\theta})} + \\log{p(\\mathbf{\\theta})}\\}\n",
    "$$"
   ]
  },
  {
   "attachments": {},
   "cell_type": "markdown",
   "metadata": {},
   "source": [
    "## 4. 解法"
   ]
  },
  {
   "attachments": {},
   "cell_type": "markdown",
   "metadata": {},
   "source": [
    "ウィナーフィルタ、カルマンフィルタ、 MCMC、粒子フィルタ"
   ]
  }
 ],
 "metadata": {
  "language_info": {
   "name": "python"
  },
  "orig_nbformat": 4
 },
 "nbformat": 4,
 "nbformat_minor": 2
}
