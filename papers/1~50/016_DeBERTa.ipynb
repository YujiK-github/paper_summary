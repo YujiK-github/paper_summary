{
 "cells": [
  {
   "attachments": {},
   "cell_type": "markdown",
   "metadata": {},
   "source": [
    "# DeBERTa: Decoding-enhanced BERT with Disentangled Attention\n"
   ]
  },
  {
   "attachments": {},
   "cell_type": "markdown",
   "metadata": {},
   "source": [
    "* URL: https://arxiv.org/abs/2006.03654\n",
    "* authors: Pengcheng He, Xiaodong Liu, Jianfeng Gao, Weizhu Chen\n",
    "* Submitted on 5 Jun 2020 (v1)"
   ]
  },
  {
   "attachments": {},
   "cell_type": "markdown",
   "metadata": {},
   "source": [
    "## 1. どんなもの？\n",
    "新しいモデル構造のDeBERTa, which stands for **De**coding-enhanced **BERT** with disentangled **a**ttentionの提案。"
   ]
  },
  {
   "attachments": {},
   "cell_type": "markdown",
   "metadata": {},
   "source": [
    "## 2. 先行研究と比べるとどこが凄い？  \n"
   ]
  },
  {
   "attachments": {},
   "cell_type": "markdown",
   "metadata": {},
   "source": [
    "## 3. 技術や手法のキモはどこ？\n"
   ]
  },
  {
   "attachments": {},
   "cell_type": "markdown",
   "metadata": {},
   "source": [
    "### 3-1. the disentangled attention mechanism\n",
    "単語の意味と場所をそれぞれencodeして\n",
    "\n",
    "$$\n",
    "\\delta(i, j) = \n",
    "$$\n",
    "\n",
    "\n",
    "$$\n",
    "Q_{c} = HW_{q, c}, K_{c} = HW_{k,c}, V_{c} = HW_{v, c}, Q_{r} = PW_{q, r}, K_{r}=PW_{k, r} \\\\\n",
    "\\tilde{A}_{i, j} = \\underbrace{Q_{i}^{c}{K_{j}^{c}}^\\top}_{\\text{(a)position-to-content}} + \\underbrace{Q_{i}^{c}{K_{\\delta (i, j)}^{r}}^\\top}_{\\text{(b)content-to-position}} + \\underbrace{K_{j}^{c}{Q_{\\delta (j, i)}^{r}}^\\top}_{\\text{(c)position-to-content}} \\\\\n",
    "H_{O} = \\text{softmax}(\\frac{\\tilde{A}}{\\sqrt{3d}})V_{e}\n",
    "$$"
   ]
  },
  {
   "attachments": {},
   "cell_type": "markdown",
   "metadata": {},
   "source": [
    "### 3-2. enhanced mask decoder\n",
    "文法上のニュアンスを考慮するために、単語の絶対的なポジション(the absolute position)の情報を加える。\n",
    "モデルがdマスクした単語をecodeするときのSoftmax関数の直前に加える。(incorporateってことは和なのか？)"
   ]
  },
  {
   "attachments": {},
   "cell_type": "markdown",
   "metadata": {},
   "source": [
    "### 3-3. adversarial training method\n"
   ]
  },
  {
   "attachments": {},
   "cell_type": "markdown",
   "metadata": {},
   "source": [
    "## 4. どうやって有効だと検証した？\n"
   ]
  },
  {
   "attachments": {},
   "cell_type": "markdown",
   "metadata": {},
   "source": [
    "## 5. 議論はある？\n"
   ]
  },
  {
   "attachments": {},
   "cell_type": "markdown",
   "metadata": {},
   "source": [
    "## 6. 次に読むべき論文は？\n"
   ]
  },
  {
   "attachments": {},
   "cell_type": "markdown",
   "metadata": {},
   "source": [
    "## 7. 実装\n",
    "https://github.com/microsoft/DeBERTa"
   ]
  }
 ],
 "metadata": {
  "language_info": {
   "name": "python"
  },
  "orig_nbformat": 4
 },
 "nbformat": 4,
 "nbformat_minor": 2
}
