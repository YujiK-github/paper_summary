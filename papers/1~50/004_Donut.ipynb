{
 "cells": [
  {
   "attachments": {},
   "cell_type": "markdown",
   "metadata": {},
   "source": [
    "# OCR-free Document Understanding Transformer"
   ]
  },
  {
   "attachments": {},
   "cell_type": "markdown",
   "metadata": {},
   "source": [
    "* URL: https://arxiv.org/abs/2111.15664\n",
    "* authors: Geewook Kim, Teakgyu Hong, Moonbin Yim, Jeongyeon Nam, Jinyoung Park, Jinyeong Yim, Wonseok Hwang, Sangdoo Yun, Dongyoon Han, Seunghyun Park\n",
    "* Submitted on 30 Nov 2021 (v1)"
   ]
  },
  {
   "attachments": {},
   "cell_type": "markdown",
   "metadata": {},
   "source": [
    "### 1. どんなもの？\n",
    "新たなモデルのDonut, which stands for **Do**cume**n**t **u**nderstanding **t**ranformer の提案"
   ]
  },
  {
   "attachments": {},
   "cell_type": "markdown",
   "metadata": {},
   "source": [
    "### 2. 先行研究と比べるとどこが凄い？\n",
    "先行研究では、OCRを用いて情報を抽出し、その結果を用いてBERTやLMに入力しタスクに取り組んでいた。しかしDonutはEnd2Endで行う。OCRは計算コストが高く、ドキュメントの異なる言語に対して柔軟ではない。さらに後続のモデルに悪影響を与えるのでそれに対処しようとした。"
   ]
  },
  {
   "attachments": {},
   "cell_type": "markdown",
   "metadata": {},
   "source": [
    "### 3. 技術や手法のキモはどこ？\n",
    "* EncoderにはSwin Transformerを使用。\n",
    "* DecoderのarchitectureとしてBARTを使用。Mulit-lang weights.\n",
    "* Outputはspecial tokenをつくって<START_\\*><END_\\*>の間にあるものを抽出したものとする\n",
    "* pre-train  \n",
    "画像の中の全ての文章を順番通りに(基本的に上から下、左から右)全て読ませるように訓練する。画像とそれまでの文章を基に次のトークンを予測する with CrossEntropyLoss.\n",
    "    * SynthDoG (**Synth**etic **Do**cument **G**enerator): 多言語のデータでも使えるように作った生成器。ImageNetの画像を背景に一定のルールのもとで階層構造を作り、Wikipediaから文章を挿入したもの。後処理として色変えたり、ガウスノイズが入ったり。\n",
    "  \n",
    "* fine-tuning  \n",
    "どのように読ませるか(つまりどのように出力させるか)を訓練する"
   ]
  },
  {
   "attachments": {},
   "cell_type": "markdown",
   "metadata": {},
   "source": [
    "### 4. どうやって有効だと検証した？\n",
    "* Document Classification  \n",
    "  他の一般的なモデルのようなclassifierを用いてsoftmax, ではなく前述のようなoutputの出力を指定した結果を用いる\n",
    "  * RVL_CDIP: dataset  \n",
    "  -> SOTA and Speed up\n",
    "* Document Information Extraction  \n",
    "  階層関係やグループをうまくとらえられているかどうかのテスト. 評価指標はfield-level F1 scoreとTree Edit Distance(TED).\n",
    "  * CORD\n",
    "  * Ticket\n",
    "  * Bussiness Card\n",
    "  * Receipt  \n",
    "  -> SOTA and 安定した結果\n",
    "* Document Visual Question and Answering(DocVQA)  \n",
    "画像と質問文から答えを導くタスク。\n",
    "  * DocVQA  \n",
    "  評価指標はANLS(Average Normalize Levenshtein Similarity)  \n",
    "  -> 一部では敗北、しかし手書き文字に対してはSOTA。"
   ]
  },
  {
   "attachments": {},
   "cell_type": "markdown",
   "metadata": {},
   "source": [
    "### 5. 議論はある？\n",
    "* 画像のサイズを増やしたときに急速に計算量が増加する。ここではoriginalのtransformerを用いているが、a efficient attention mechanismを使うと避けられるかもしれない"
   ]
  },
  {
   "attachments": {},
   "cell_type": "markdown",
   "metadata": {},
   "source": [
    "### 6. 次に読むべき論文は？\n",
    "* [Swin Transformer: Hierarchical Vision Transformer using Shifted Windows](https://arxiv.org/abs/2103.14030)\n",
    "* [DePlot: One-shot visual language reasoning by plot-to-table translation](https://arxiv.org/abs/2212.10505)"
   ]
  },
  {
   "attachments": {},
   "cell_type": "markdown",
   "metadata": {},
   "source": [
    "### 7. 実装\n",
    "https://github.com/clovaai/donut"
   ]
  }
 ],
 "metadata": {
  "language_info": {
   "name": "python"
  },
  "orig_nbformat": 4
 },
 "nbformat": 4,
 "nbformat_minor": 2
}
