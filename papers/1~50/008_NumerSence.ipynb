{
 "cells": [
  {
   "attachments": {},
   "cell_type": "markdown",
   "metadata": {},
   "source": [
    "# Birds have four legs?! NumerSense: Probing Numerical Commonsense Knowledge of Pre-trained Language Models"
   ]
  },
  {
   "attachments": {},
   "cell_type": "markdown",
   "metadata": {},
   "source": [
    "* URL: https://arxiv.org/abs/2005.00683\n",
    "* authors: Bill Yuchen Lin, Seyeon Lee, Rahul Khanna, Xiang Ren\n",
    "* Submitted on 2 May 2020 (v1)"
   ]
  },
  {
   "attachments": {},
   "cell_type": "markdown",
   "metadata": {},
   "source": [
    "### 1. どんなもの？\n",
    "pre-training language models(PTLMs)は実は数字の常識知識(numerical commonsence knowledge)に弱いという調査."
   ]
  },
  {
   "attachments": {},
   "cell_type": "markdown",
   "metadata": {},
   "source": [
    "### 2. 先行研究と比べるとどこが凄い？  \n",
    "先行研究ではPTLMsは常識をエンコードして文章の表現(embedding)を作り出すとされていた。しかし数字に対してはあまり効果的ではないということを見つけた."
   ]
  },
  {
   "attachments": {},
   "cell_type": "markdown",
   "metadata": {},
   "source": [
    "### 3. 技術や手法のキモはどこ？\n",
    "[MASK]を利用して[MASK]に当てはまる確率が最も大きいものをモデルによる常識だと見なし、実験する."
   ]
  },
  {
   "attachments": {},
   "cell_type": "markdown",
   "metadata": {},
   "source": [
    "### 4. どうやって有効だと検証した？\n",
    "NumerSenceというdatasetをつくって検証した. NumerSenceはOpen Mind Common Sense(OMCS)から{\"zero\", \"one\", ... , \"ten\"}の12個の数字のどれかが含まれている文章を抜きだし、その文章をrefineさせ、全てのアノテーターによって受け入れられた文章のみを採用した。何書いてるか分からない??adversarial dataも追加.\n",
    "\n",
    "* Zer0-shot setting\n",
    "* distant supervision setting\n",
    "  質問と似た分野のデータセットでfine-tuningする.    \n",
    "BERTとRoBERTaを使う  \n",
    "hit@1, 2, 3accuracy(正しい順番でランク付けされた単語のパーセンテージ)  \n",
    "Zero-shot settingに比べてdistant supervision settingは性能が良かったものの、人間に比べると遙かに劣った結果になった。  \n",
    "Open Questionだとfine-tuningなしでわずか15%程度の正解率  "
   ]
  },
  {
   "attachments": {},
   "cell_type": "markdown",
   "metadata": {},
   "source": [
    "### 5. 議論はある？\n",
    "* 何で数字に弱いかの分析"
   ]
  },
  {
   "attachments": {},
   "cell_type": "markdown",
   "metadata": {},
   "source": [
    "### 6. 次に読むべき論文は？\n"
   ]
  },
  {
   "attachments": {},
   "cell_type": "markdown",
   "metadata": {},
   "source": [
    "### 7. 実装\n",
    "No official code found"
   ]
  },
  {
   "attachments": {},
   "cell_type": "markdown",
   "metadata": {},
   "source": []
  }
 ],
 "metadata": {
  "language_info": {
   "name": "python"
  },
  "orig_nbformat": 4
 },
 "nbformat": 4,
 "nbformat_minor": 2
}
