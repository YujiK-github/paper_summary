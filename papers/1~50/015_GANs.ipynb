{
 "cells": [
  {
   "attachments": {},
   "cell_type": "markdown",
   "metadata": {},
   "source": [
    "# Generative Adversarial Networks\n"
   ]
  },
  {
   "attachments": {},
   "cell_type": "markdown",
   "metadata": {},
   "source": [
    "* URL https://arxiv.org/abs/1406.2661\n",
    "* authors: Ian J. Goodfellow, Jean Pouget-Abadie, Mehdi Mirza, Bing Xu, David Warde-Farley, Sherjil Ozair, Aaron Courville, Yoshua Bengio\n",
    "* Submitted on 10 Jun 2014"
   ]
  },
  {
   "attachments": {},
   "cell_type": "markdown",
   "metadata": {},
   "source": [
    "\n",
    "### 1. どんなもの？\n",
    "データの分布を捉えるGenerative modelと、あるサンプルがGenerative modelで生成したデータと元のデータのどちらからのものであるかを予測するdiscriminative modelを同時に学習させるというフレームワークの提案。"
   ]
  },
  {
   "attachments": {},
   "cell_type": "markdown",
   "metadata": {},
   "source": [
    "### 2. 先行研究と比べるとどこが凄い？  \n",
    "Deep generative modelは最尤推定で生じる多くのインタラクティブな確率計算や生成モデルの文脈でReLU(piecewise linear unit)の利益を利用することの難しさがあった。この論文ではそれらに頼らずに生成モデルを学習させることができる。"
   ]
  },
  {
   "attachments": {},
   "cell_type": "markdown",
   "metadata": {},
   "source": [
    "### 3. 技術や手法のキモはどこ？\n",
    "\n",
    "$$\n",
    "\\underset{G}{\\text{min}} \\, \\underset{D}{\\text{max}}V(D, G) = E_{x \\sim p_{data}(x)}[\\log{D(x)}] + E_{z \\sim p_{x}(z)}[\\log{(1-D(G(z)))}] \\\\\n",
    "$$\n",
    "\n",
    "* Generative model: G  \n",
    "  Dが間違える確率を最大化する\n",
    "* discriminative model: D  \n",
    "  \n",
    "* backpropagation  \n",
    "  highly successful backpropagation(?)のみを使って学習させた。また、サンプルがGenerative Modelによるものであればbackpropagationをしない？\n",
    "\n",
    "* stepの違い  \n",
    "  過学習を防ぐためにDは$k$回学習させてGは1回学習させる"
   ]
  },
  {
   "attachments": {},
   "cell_type": "markdown",
   "metadata": {},
   "source": [
    "### 4. どうやって有効だと検証した？\n",
    "MNIST, TFD(the Toronto Face Database), CIFAR-10"
   ]
  },
  {
   "attachments": {},
   "cell_type": "markdown",
   "metadata": {},
   "source": [
    "### 5. 議論はある？\n"
   ]
  },
  {
   "attachments": {},
   "cell_type": "markdown",
   "metadata": {},
   "source": [
    "### 6. 次に読むべき論文は？\n"
   ]
  },
  {
   "attachments": {},
   "cell_type": "markdown",
   "metadata": {},
   "source": [
    "### 7. 実装\n",
    "https://github.com/goodfeli/adversarial"
   ]
  },
  {
   "attachments": {},
   "cell_type": "markdown",
   "metadata": {},
   "source": [
    "### ref\n",
    "https://agirobots.com/gan-introduction/"
   ]
  },
  {
   "attachments": {},
   "cell_type": "markdown",
   "metadata": {},
   "source": []
  }
 ],
 "metadata": {
  "language_info": {
   "name": "python"
  },
  "orig_nbformat": 4
 },
 "nbformat": 4,
 "nbformat_minor": 2
}
